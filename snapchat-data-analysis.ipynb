{
 "cells": [
  {
   "cell_type": "code",
   "execution_count": null,
   "source": [
    "import pandas as pd\r\n",
    "import numpy as np\r\n",
    "import matplotlib.pyplot as plt \r\n",
    "import seaborn as sns\r\n",
    "import json\r\n",
    "\r\n",
    "data = json.loads(open(\"PATH_TO_SNAPCHAT_DATA/json/account.json\").read())\r\n",
    "print(data['Basic Information']['Username'])\r\n",
    "print(data['Basic Information']['Name'])"
   ],
   "outputs": [],
   "metadata": {}
  },
  {
   "cell_type": "code",
   "execution_count": null,
   "source": [
    "snap_history = json.loads(open(\"PATH_TO_SNAPCHAT_DATA/json/snap_history.json\").read())\r\n",
    "received = snap_history['Received Snap History']\r\n",
    "sent = snap_history['Sent Snap History']\r\n",
    "received_list = list()\r\n",
    "sent_list = list()\r\n",
    "\r\n",
    "for i in range(len(received)):\r\n",
    "    received_list.append([received[i]['From'], received[i]['Media Type'].lower(), received[i]['Created']])\r\n",
    "\r\n",
    "for i in range(len(sent)):\r\n",
    "    sent_list.append([sent[i]['To'], sent[i]['Media Type'].lower(), sent[i]['Created']])\r\n",
    "\r\n",
    "df1 = pd.DataFrame(received_list)\r\n",
    "df2 = pd.DataFrame(sent_list)\r\n",
    "df1.columns = [\"From\", \"Type\", \"Created\"]\r\n",
    "df2.columns = [\"To\", \"Type\", \"Created\"]\r\n",
    "\r\n",
    "print(df1.head(10))\r\n",
    "print()\r\n",
    "print(df2.head(10))"
   ],
   "outputs": [],
   "metadata": {}
  },
  {
   "cell_type": "code",
   "execution_count": null,
   "source": [
    "print(df1.tail(10))\r\n",
    "print()\r\n",
    "print(df2.tail(10))"
   ],
   "outputs": [],
   "metadata": {}
  },
  {
   "cell_type": "code",
   "execution_count": null,
   "source": [
    "df3 = df1.groupby(\"From\")\r\n",
    "df4 = df2.groupby(\"To\")\r\n",
    "df5 = df3.size()\r\n",
    "df6 = df4.size()\r\n",
    "df5.columns = [\"From\", \"Size\"]\r\n",
    "df6.columns = [\"To\", \"Size\"]\r\n",
    "\r\n",
    "#df3.apply(print)\r\n",
    "#print(\"---------------------------------------------------\")\r\n",
    "#df4.apply(print)\r\n",
    "\r\n",
    "print(df5)\r\n",
    "print(\"---------------------------------------------------\")\r\n",
    "print(df6)"
   ],
   "outputs": [],
   "metadata": {}
  },
  {
   "cell_type": "code",
   "execution_count": null,
   "source": [
    "plt.bar(df1.sort_values(\"From\").From.unique(), df3['From'].size())\r\n",
    "plt.xticks(rotation=\"90\")\r\n",
    "plt.show()"
   ],
   "outputs": [],
   "metadata": {}
  },
  {
   "cell_type": "code",
   "execution_count": null,
   "source": [
    "plt.bar(df2.sort_values(\"To\").To.unique(), df4['To'].size())\r\n",
    "plt.xticks(rotation=\"90\")\r\n",
    "plt.show()"
   ],
   "outputs": [],
   "metadata": {}
  }
 ],
 "metadata": {
  "orig_nbformat": 4,
  "language_info": {
   "name": "python"
  }
 },
 "nbformat": 4,
 "nbformat_minor": 2
}